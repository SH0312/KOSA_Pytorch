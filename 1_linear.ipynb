{
  "nbformat": 4,
  "nbformat_minor": 5,
  "metadata": {
    "kernelspec": {
      "name": "python3",
      "display_name": "Python 3"
    },
    "colab": {
      "name": "1-linear.ipynb",
      "provenance": [],
      "include_colab_link": true
    },
    "accelerator": "GPU",
    "language_info": {
      "name": "python"
    }
  },
  "cells": [
    {
      "cell_type": "markdown",
      "metadata": {
        "id": "view-in-github",
        "colab_type": "text"
      },
      "source": [
        "<a href=\"https://colab.research.google.com/github/SH0312/KOSA_Pytorch/blob/main/1_linear.ipynb\" target=\"_parent\"><img src=\"https://colab.research.google.com/assets/colab-badge.svg\" alt=\"Open In Colab\"/></a>"
      ]
    },
    {
      "cell_type": "code",
      "metadata": {
        "id": "zL-eyY86VjZd"
      },
      "source": [
        "import torch"
      ],
      "id": "zL-eyY86VjZd",
      "execution_count": null,
      "outputs": []
    },
    {
      "cell_type": "code",
      "metadata": {
        "id": "N1naNYszVqUs"
      },
      "source": [
        "x = torch.randn(2,3)"
      ],
      "id": "N1naNYszVqUs",
      "execution_count": null,
      "outputs": []
    },
    {
      "cell_type": "code",
      "metadata": {
        "id": "vVrooF1PV3Hj"
      },
      "source": [
        "y = torch.rand(2,3)"
      ],
      "id": "vVrooF1PV3Hj",
      "execution_count": null,
      "outputs": []
    },
    {
      "cell_type": "code",
      "metadata": {
        "id": "mQGKHsX1Wbd7"
      },
      "source": [
        "a = x.to('cuda')"
      ],
      "id": "mQGKHsX1Wbd7",
      "execution_count": null,
      "outputs": []
    },
    {
      "cell_type": "code",
      "metadata": {
        "id": "epkYMYhgV7uM"
      },
      "source": [
        "#python"
      ],
      "id": "epkYMYhgV7uM",
      "execution_count": null,
      "outputs": []
    },
    {
      "cell_type": "code",
      "metadata": {
        "id": "canadian-racing"
      },
      "source": [
        "# Y = Wx + b\n",
        "# input: 10 Ouput: 5 Linear Transform"
      ],
      "id": "canadian-racing",
      "execution_count": null,
      "outputs": []
    },
    {
      "cell_type": "code",
      "metadata": {
        "id": "electrical-taxation"
      },
      "source": [
        "import torch\n",
        "from torch.autograd import Variable\n",
        "from torch.nn import Linear\n",
        "\n",
        "data = Variable(torch.randn(1, 10))\n",
        "Layer =Linear(in_features=10, out_features=5, bias=True)"
      ],
      "id": "electrical-taxation",
      "execution_count": 1,
      "outputs": []
    },
    {
      "cell_type": "code",
      "metadata": {
        "id": "german-sherman",
        "outputId": "e81b61f2-da4e-4915-d9e2-2450f095c43c"
      },
      "source": [
        "Layer(data)"
      ],
      "id": "german-sherman",
      "execution_count": null,
      "outputs": [
        {
          "output_type": "execute_result",
          "data": {
            "text/plain": [
              "tensor([[-0.3379, -0.2850,  0.0090, -1.1616,  0.5723]],\n",
              "       grad_fn=<AddmmBackward>)"
            ]
          },
          "metadata": {
            "tags": []
          },
          "execution_count": 4
        }
      ]
    },
    {
      "cell_type": "code",
      "metadata": {
        "id": "surprised-smart",
        "colab": {
          "base_uri": "https://localhost:8080/"
        },
        "outputId": "b470538c-4cc7-44c0-84d7-20c09101ca23"
      },
      "source": [
        "data"
      ],
      "id": "surprised-smart",
      "execution_count": 3,
      "outputs": [
        {
          "output_type": "execute_result",
          "data": {
            "text/plain": [
              "tensor([[-1.4285,  0.2805,  0.3254, -0.7319,  0.3147, -0.7350,  1.8184,  1.2629,\n",
              "          0.4362, -0.7057]])"
            ]
          },
          "metadata": {
            "tags": []
          },
          "execution_count": 3
        }
      ]
    },
    {
      "cell_type": "code",
      "metadata": {
        "colab": {
          "base_uri": "https://localhost:8080/"
        },
        "id": "f9H6aXSRr3NB",
        "outputId": "19af3742-8c1f-4fc0-b568-eaa71ff679f1"
      },
      "source": [
        "Layer(data)"
      ],
      "id": "f9H6aXSRr3NB",
      "execution_count": 4,
      "outputs": [
        {
          "output_type": "execute_result",
          "data": {
            "text/plain": [
              "tensor([[-0.2786,  0.0247, -0.0538,  0.4510, -0.6686]],\n",
              "       grad_fn=<AddmmBackward>)"
            ]
          },
          "metadata": {
            "tags": []
          },
          "execution_count": 4
        }
      ]
    },
    {
      "cell_type": "code",
      "metadata": {
        "id": "g4DUlimSr6Am"
      },
      "source": [
        ""
      ],
      "id": "g4DUlimSr6Am",
      "execution_count": null,
      "outputs": []
    },
    {
      "cell_type": "code",
      "metadata": {
        "id": "hindu-freight",
        "colab": {
          "base_uri": "https://localhost:8080/"
        },
        "outputId": "e4328ac0-7acf-4918-f823-1ea83b26d78f"
      },
      "source": [
        "Layer.weight"
      ],
      "id": "hindu-freight",
      "execution_count": 7,
      "outputs": [
        {
          "output_type": "execute_result",
          "data": {
            "text/plain": [
              "Parameter containing:\n",
              "tensor([[-0.0958, -0.1483, -0.0450, -0.1528,  0.0669, -0.0609, -0.0558, -0.0400,\n",
              "         -0.2650, -0.0014],\n",
              "        [-0.2506, -0.2482, -0.1058,  0.1487,  0.0669, -0.0483, -0.0421,  0.2015,\n",
              "         -0.1688,  0.0197],\n",
              "        [-0.2285, -0.1545, -0.0035, -0.1038, -0.0812,  0.1212, -0.2745, -0.1630,\n",
              "         -0.0485, -0.2406],\n",
              "        [-0.1008,  0.2040,  0.1836, -0.0575,  0.1986, -0.1681, -0.2033,  0.1723,\n",
              "          0.0814,  0.1285],\n",
              "        [ 0.2380,  0.0220,  0.1136, -0.2193,  0.2978,  0.2691, -0.3061,  0.1960,\n",
              "         -0.3112,  0.1902]], requires_grad=True)"
            ]
          },
          "metadata": {
            "tags": []
          },
          "execution_count": 7
        }
      ]
    },
    {
      "cell_type": "code",
      "metadata": {
        "id": "SfJaRDncsha2"
      },
      "source": [
        ""
      ],
      "id": "SfJaRDncsha2",
      "execution_count": null,
      "outputs": []
    },
    {
      "cell_type": "code",
      "metadata": {
        "id": "leading-liberty",
        "colab": {
          "base_uri": "https://localhost:8080/"
        },
        "outputId": "ee2f50a1-a696-4007-ea74-bab380ae8bf4"
      },
      "source": [
        "Layer.bias"
      ],
      "id": "leading-liberty",
      "execution_count": 8,
      "outputs": [
        {
          "output_type": "execute_result",
          "data": {
            "text/plain": [
              "Parameter containing:\n",
              "tensor([-0.2703, -0.2672,  0.2592,  0.1693,  0.1508], requires_grad=True)"
            ]
          },
          "metadata": {
            "tags": []
          },
          "execution_count": 8
        }
      ]
    },
    {
      "cell_type": "code",
      "metadata": {
        "id": "great-emergency"
      },
      "source": [
        ""
      ],
      "id": "great-emergency",
      "execution_count": null,
      "outputs": []
    },
    {
      "cell_type": "code",
      "metadata": {
        "id": "cross-think"
      },
      "source": [
        "# Activation Function -> ReLu"
      ],
      "id": "cross-think",
      "execution_count": null,
      "outputs": []
    },
    {
      "cell_type": "code",
      "metadata": {
        "id": "scheduled-boston"
      },
      "source": [
        "from torch.nn import ReLU\n",
        "import torch"
      ],
      "id": "scheduled-boston",
      "execution_count": 10,
      "outputs": []
    },
    {
      "cell_type": "code",
      "metadata": {
        "id": "automated-horizon"
      },
      "source": [
        "data = torch.Tensor([[3, 1, 2, -1, -2, -3]])"
      ],
      "id": "automated-horizon",
      "execution_count": 13,
      "outputs": []
    },
    {
      "cell_type": "code",
      "metadata": {
        "id": "early-variation",
        "colab": {
          "base_uri": "https://localhost:8080/"
        },
        "outputId": "3cec39a4-16f4-4894-ce31-08698d61772e"
      },
      "source": [
        "relu = ReLU()\n",
        "relu(data)"
      ],
      "id": "early-variation",
      "execution_count": 14,
      "outputs": [
        {
          "output_type": "execute_result",
          "data": {
            "text/plain": [
              "tensor([[3., 1., 2., 0., 0., 0.]])"
            ]
          },
          "metadata": {
            "tags": []
          },
          "execution_count": 14
        }
      ]
    },
    {
      "cell_type": "code",
      "metadata": {
        "id": "ytPsGZthwyon"
      },
      "source": [
        ""
      ],
      "id": "ytPsGZthwyon",
      "execution_count": null,
      "outputs": []
    },
    {
      "cell_type": "code",
      "metadata": {
        "id": "blW-3-_7wuI2"
      },
      "source": [
        ""
      ],
      "id": "blW-3-_7wuI2",
      "execution_count": null,
      "outputs": []
    },
    {
      "cell_type": "code",
      "metadata": {
        "id": "divided-doctrine"
      },
      "source": [
        ""
      ],
      "id": "divided-doctrine",
      "execution_count": null,
      "outputs": []
    },
    {
      "cell_type": "code",
      "metadata": {
        "id": "nervous-plymouth"
      },
      "source": [
        "# Feedforward & Back Propagation\n",
        "# https://blog.naver.com/slykid/222007253786"
      ],
      "id": "nervous-plymouth",
      "execution_count": null,
      "outputs": []
    },
    {
      "cell_type": "code",
      "metadata": {
        "id": "southwest-replacement"
      },
      "source": [
        "import torch\n",
        "from torch import nn\n",
        "from torch.autograd import Variable"
      ],
      "id": "southwest-replacement",
      "execution_count": 1,
      "outputs": []
    },
    {
      "cell_type": "code",
      "metadata": {
        "id": "narrative-onion"
      },
      "source": [
        "class Network_ex(nn.Module):\n",
        "    def __init__(self, input_size, hidden_size, output_size):\n",
        "        super(Network_ex).__init__()\n",
        "        self.layer1 = nn.Linear(input_size, hidden_size)\n",
        "        self.layer2 = nn.Linear(hidden_size, output_size)\n",
        "        \n",
        "    def forward(self, input):\n",
        "        out = self.Layer1(input)\n",
        "        out = nn.ReLU(out)\n",
        "        out = self.layer2(out)\n",
        "        \n",
        "        return out"
      ],
      "id": "narrative-onion",
      "execution_count": 2,
      "outputs": []
    },
    {
      "cell_type": "code",
      "metadata": {
        "id": "dangerous-dietary"
      },
      "source": [
        "loss = nn.MSELoss()\n",
        "data = Variable(torch.randn(3, 5), requires_grad=True)"
      ],
      "id": "dangerous-dietary",
      "execution_count": 3,
      "outputs": []
    },
    {
      "cell_type": "code",
      "metadata": {
        "id": "departmental-roberts",
        "colab": {
          "base_uri": "https://localhost:8080/"
        },
        "outputId": "4ad6eaa9-c8eb-4b05-dd0a-9d9b1764c1fd"
      },
      "source": [
        "data"
      ],
      "id": "departmental-roberts",
      "execution_count": 4,
      "outputs": [
        {
          "output_type": "execute_result",
          "data": {
            "text/plain": [
              "tensor([[ 0.2352,  1.8564, -1.0107,  0.3438, -1.1640],\n",
              "        [ 0.2514,  0.1252, -0.7098,  0.4094,  0.2047],\n",
              "        [ 1.6260,  1.5588,  0.7945, -0.8594, -0.8660]], requires_grad=True)"
            ]
          },
          "metadata": {
            "tags": []
          },
          "execution_count": 4
        }
      ]
    },
    {
      "cell_type": "code",
      "metadata": {
        "id": "adopted-zambia"
      },
      "source": [
        "target = Variable(torch.randn(3, 5))"
      ],
      "id": "adopted-zambia",
      "execution_count": 5,
      "outputs": []
    },
    {
      "cell_type": "code",
      "metadata": {
        "id": "interested-efficiency",
        "colab": {
          "base_uri": "https://localhost:8080/"
        },
        "outputId": "a418e6bb-fa83-4652-a579-922f79916ef8"
      },
      "source": [
        "target"
      ],
      "id": "interested-efficiency",
      "execution_count": 6,
      "outputs": [
        {
          "output_type": "execute_result",
          "data": {
            "text/plain": [
              "tensor([[ 7.2081e-01,  7.9161e-01,  1.1303e+00, -1.9952e+00,  2.7820e-01],\n",
              "        [ 1.1221e+00,  4.9422e-01, -1.5115e-03,  1.0903e-01,  9.6144e-01],\n",
              "        [ 5.7931e-02, -1.8966e+00, -3.7742e-01,  1.0982e-01,  1.4630e+00]])"
            ]
          },
          "metadata": {
            "tags": []
          },
          "execution_count": 6
        }
      ]
    },
    {
      "cell_type": "code",
      "metadata": {
        "id": "confident-photography"
      },
      "source": [
        "output = loss(data, target)\n",
        "output.backward()"
      ],
      "id": "confident-photography",
      "execution_count": 11,
      "outputs": []
    },
    {
      "cell_type": "code",
      "metadata": {
        "id": "chronic-elimination",
        "colab": {
          "base_uri": "https://localhost:8080/"
        },
        "outputId": "3a99175e-cec4-40bf-f3ea-bf44eb45bc18"
      },
      "source": [
        "output"
      ],
      "id": "chronic-elimination",
      "execution_count": 13,
      "outputs": [
        {
          "output_type": "execute_result",
          "data": {
            "text/plain": [
              "tensor(2.5133, grad_fn=<MseLossBackward>)"
            ]
          },
          "metadata": {
            "tags": []
          },
          "execution_count": 13
        }
      ]
    },
    {
      "cell_type": "code",
      "metadata": {
        "colab": {
          "base_uri": "https://localhost:8080/"
        },
        "id": "EseXUY_T1eUe",
        "outputId": "33751187-6998-4f48-825f-c0e2c3632670"
      },
      "source": [
        "data"
      ],
      "id": "EseXUY_T1eUe",
      "execution_count": 14,
      "outputs": [
        {
          "output_type": "execute_result",
          "data": {
            "text/plain": [
              "tensor([[ 0.2352,  1.8564, -1.0107,  0.3438, -1.1640],\n",
              "        [ 0.2514,  0.1252, -0.7098,  0.4094,  0.2047],\n",
              "        [ 1.6260,  1.5588,  0.7945, -0.8594, -0.8660]], requires_grad=True)"
            ]
          },
          "metadata": {
            "tags": []
          },
          "execution_count": 14
        }
      ]
    },
    {
      "cell_type": "code",
      "metadata": {
        "id": "BFNTPlfV1jZ-"
      },
      "source": [
        ""
      ],
      "id": "BFNTPlfV1jZ-",
      "execution_count": null,
      "outputs": []
    }
  ]
}